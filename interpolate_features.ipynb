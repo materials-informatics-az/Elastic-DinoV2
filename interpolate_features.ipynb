{
 "cells": [
  {
   "cell_type": "code",
   "execution_count": null,
   "id": "a716afdf-e5e2-450c-a2b2-62384fc9a19f",
   "metadata": {},
   "outputs": [],
   "source": [
    "# Imports \n",
    "\n",
    "import numpy as np\n",
    "import scipy.io as sio\n",
    "from sklearn.model_selection import train_test_split\n",
    "from sklearn.metrics import mean_squared_error, r2_score\n",
    "import matplotlib.pyplot as plt\n",
    "import torch\n",
    "from torchvision import transforms\n",
    "from sklearn.preprocessing import PolynomialFeatures\n",
    "from sklearn.decomposition import PCA\n",
    "from PIL import Image\n",
    "\n",
    "from sklearn.linear_model import LinearRegression\n",
    "import numpy as np"
   ]
  },
  {
   "cell_type": "code",
   "execution_count": null,
   "id": "a2f4c15e-391d-473d-a35f-4feb9a2bb864",
   "metadata": {},
   "outputs": [],
   "source": [
    "#Loading the data\n",
    "\n",
    "data = sio.loadmat('dataset')\n",
    "x = data['data']\n",
    "y = data['label']\n",
    "y = y.reshape(-1,1)\n",
    "y = np.array(y)\n",
    "x = x.reshape(51,51,51,5900)\n",
    "x = np.transpose(x,(3,0,1,2))\n",
    "\n",
    "xx_bin = x[:,0,:,:]\n",
    "xy_bin = x[:,:,0,:]\n",
    "xz_bin = x[:,:,:,0]"
   ]
  },
  {
   "cell_type": "code",
   "execution_count": null,
   "id": "f4357835-f1de-4d1a-8da9-63ddb50e02b3",
   "metadata": {},
   "outputs": [],
   "source": [
    "# Performing Interpolation\n",
    "\n",
    "transform = transforms.Compose([\n",
    "                transforms.Resize(224 ,interpolation=transforms.InterpolationMode.BICUBIC),\n",
    "                transforms.ToTensor(), \n",
    "                 ])\n",
    "\n",
    "# Working with the Base model here, can change. \n",
    "\n",
    "dinov2_vitb14 = torch.hub.load('facebookresearch/dinov2', 'dinov2_vitb14')\n",
    "\n",
    "# Making features\n",
    "\n",
    "def make_features(x_bin):\n",
    "\n",
    "    x_t = torch.Tensor()\n",
    "    for img in x_bin:\n",
    "        img = Image.fromarray(np.uint8(img*255)).convert('RGB')\n",
    "        img_t = transform(img)\n",
    "        img_t = img_t[None,:,:,:]\n",
    "        x_t = torch.cat((x_t,img_t),0)\n",
    "\n",
    "    return dinov2_vitb14(x_t).detach().numpy()\n",
    "\n",
    "def batch_make_features(xx_bin,n_batch=590):\n",
    "    for ii in range(10):\n",
    "        xx_bin_i = xx_bin[ii*n_batch:(ii+1)*n_batch,:,:]\n",
    "        xx_i = make_features(xx_bin_i)  \n",
    "        if ii == 0:\n",
    "            xx = xx_i\n",
    "        else: \n",
    "            xx = np.vstack((xx,xx_i))\n",
    "        print('done with round ', ii)\n",
    "        \n",
    "    return xx"
   ]
  },
  {
   "cell_type": "code",
   "execution_count": null,
   "id": "6509cad6-18b0-45ad-a87c-033b59e2a415",
   "metadata": {},
   "outputs": [],
   "source": [
    "xx = batch_make_features(xx_bin)\n",
    "xy = batch_make_features(xy_bin)\n",
    "xz = batch_make_features(xz_bin)"
   ]
  },
  {
   "cell_type": "code",
   "execution_count": null,
   "id": "a2181f08-5726-451b-a351-a308cb0a2d23",
   "metadata": {},
   "outputs": [],
   "source": [
    "np.save('xx_interpolate.npy',xx)\n",
    "np.save('xy_interpolate.npy',xy)\n",
    "np.save('xz_interpolate.npy',xz)"
   ]
  },
  {
   "cell_type": "code",
   "execution_count": null,
   "id": "7ba0149f-7451-4b38-a746-18907da98a80",
   "metadata": {},
   "outputs": [],
   "source": []
  }
 ],
 "metadata": {
  "kernelspec": {
   "display_name": "Python 3 (ipykernel)",
   "language": "python",
   "name": "python3"
  },
  "language_info": {
   "codemirror_mode": {
    "name": "ipython",
    "version": 3
   },
   "file_extension": ".py",
   "mimetype": "text/x-python",
   "name": "python",
   "nbconvert_exporter": "python",
   "pygments_lexer": "ipython3",
   "version": "3.12.2"
  }
 },
 "nbformat": 4,
 "nbformat_minor": 5
}
