{
 "cells": [
  {
   "cell_type": "code",
   "execution_count": null,
   "id": "a716afdf-e5e2-450c-a2b2-62384fc9a19f",
   "metadata": {},
   "outputs": [],
   "source": [
    "#Imports\n",
    "\n",
    "import numpy as np\n",
    "import scipy.io as sio\n",
    "from sklearn.model_selection import train_test_split\n",
    "import matplotlib.pyplot as plt\n",
    "from sklearn.preprocessing import PolynomialFeatures\n",
    "from sklearn.decomposition import PCA\n",
    "from PIL import Image\n",
    "\n",
    "from sklearn.linear_model import LinearRegression\n",
    "import numpy as np"
   ]
  },
  {
   "cell_type": "code",
   "execution_count": null,
   "id": "a2f4c15e-391d-473d-a35f-4feb9a2bb864",
   "metadata": {},
   "outputs": [],
   "source": [
    "# Load the dataset \n",
    "\n",
    "data = sio.loadmat('dataset')\n",
    "x = data['data']\n",
    "y = data['label']\n",
    "y = y.reshape(-1,1)"
   ]
  },
  {
   "cell_type": "code",
   "execution_count": null,
   "id": "a2181f08-5726-451b-a351-a308cb0a2d23",
   "metadata": {},
   "outputs": [],
   "source": [
    "# Load your features \n",
    "\n",
    "xx = np.load('test_xx_dino_s.npy')\n",
    "xy = np.load('test_xy_dino_s.npy')\n",
    "xz = np.load('test_xz_dino_s.npy')"
   ]
  },
  {
   "cell_type": "code",
   "execution_count": null,
   "id": "de7ff4df-a023-4113-b19e-933cef3e28de",
   "metadata": {},
   "outputs": [],
   "source": [
    "# Concatenating and taking the mean of the 3 sets of features \n",
    "\n",
    "x_concat = np.concatenate((xx,xy,xz),axis = 1)\n",
    "x_mean = np.mean((xx,xy,xz),axis = 0)"
   ]
  },
  {
   "cell_type": "code",
   "execution_count": null,
   "id": "18921c32-071c-4968-ba55-8dd7690c6193",
   "metadata": {},
   "outputs": [],
   "source": [
    "# Running PCA and polynomial regression for specified number of components and degree of polynomial. \n",
    "# Used specifically for hyperparameter tuning on the training and validation sets. \n",
    "\n",
    "def fit_pcr_model_search(x_0,y_0,n=10,order=2,scree=False):\n",
    "\n",
    "    x_train,x_val,y_train,y_val = train_test_split(x_0,y_0, test_size=0.2, random_state=32)\n",
    "\n",
    "    pca = PCA(\n",
    "        svd_solver='full',\n",
    "        n_components=n,\n",
    "        random_state=10\n",
    "    ).fit(x_train)\n",
    "    \n",
    "    x_train_red = pca.transform(x_train)\n",
    "    x_val_red = pca.transform(x_val)\n",
    "\n",
    "    print(x_train_red.shape)\n",
    "    \n",
    "    poly = PolynomialFeatures(order)\n",
    "    x_train_poly = poly.fit_transform(x_train_red)\n",
    "    x_val_poly = poly.fit_transform(x_val_red)\n",
    "\n",
    "    model = LinearRegression().fit(x_train_poly, y_train)\n",
    "\n",
    "    y_hat = model.predict(x_train_poly)\n",
    "    mape_train = np.mean(np.abs(y_hat-y_train)/y_train)\n",
    "        \n",
    "    y_hat = model.predict(x_val_poly)\n",
    "    mape_test = np.mean(np.abs(y_hat-y_val)/y_val)\n",
    "                \n",
    "    return mape_train,mape_test"
   ]
  },
  {
   "cell_type": "code",
   "execution_count": null,
   "id": "c6896f57-24f8-4a4a-be84-af540727aa62",
   "metadata": {},
   "outputs": [],
   "source": [
    "# Running PCA and polynomial regression for specified number of components and degree of polynomial. \n",
    "# Used specifically for obtaining the final MAPE value on the test set.\n",
    "\n",
    "def fit_pcr_model_test(x_train,y_train,x_test,y_test,n=10,order=2,scree=False):\n",
    "    \n",
    "    pca = PCA(\n",
    "        svd_solver='full',\n",
    "        n_components=n,\n",
    "        random_state=10\n",
    "    ).fit(x_train)\n",
    "\n",
    "    \n",
    "    x_train_red = pca.transform(x_train)\n",
    "    x_test_red = pca.transform(x_test)\n",
    "\n",
    "    print(x_train_red.shape)\n",
    "    \n",
    "    poly = PolynomialFeatures(order)\n",
    "    x_train_poly = poly.fit_transform(x_train_red)\n",
    "    x_test_poly = poly.fit_transform(x_test_red)\n",
    "\n",
    "    model = LinearRegression().fit(x_train_poly, y_train)\n",
    "\n",
    "    y_hat = model.predict(x_train_poly)\n",
    "    mape_train = np.mean(np.abs(y_hat-y_train)/y_train)\n",
    "        \n",
    "    y_hat = model.predict(x_test_poly)\n",
    "    mape_test = np.mean(np.abs(y_hat-y_test)/y_test)\n",
    "    \n",
    "    return mape_train,mape_test"
   ]
  },
  {
   "cell_type": "code",
   "execution_count": null,
   "id": "14c0fba4-6717-4fa6-a15c-32b92c0873dd",
   "metadata": {},
   "outputs": [],
   "source": [
    "# Splitting the Concatenated data into training and test sets\n",
    "\n",
    "x_0, x_test,y_0,y_test = train_test_split(x_concat,y,test_size=0.1,random_state=11)\n",
    "\n",
    "# Running grid search on the number of components to include in PCA\n",
    "for num_comp in range(1,60,1): \n",
    "    mape_train,mape_val = fit_pcr_model_search(x_0,y_0,num_comp,2)\n",
    "    print(num_comp,mape_train,mape_val)\n"
   ]
  },
  {
   "cell_type": "code",
   "execution_count": null,
   "id": "c7749faa-18e2-4407-837d-cafc032c9066",
   "metadata": {},
   "outputs": [],
   "source": [
    "# Finding the final Test MAPE with best known number of components from grid search \n",
    "\n",
    "# Results for Concatenated Data\n",
    "mape_train,mape_test = fit_pcr_model_test(x_0,y_0,x_test,y_test,30,2)\n",
    "print(30,mape_train,mape_test)"
   ]
  },
  {
   "cell_type": "code",
   "execution_count": null,
   "id": "39740729-a1e6-4f7e-be74-0685ce95b882",
   "metadata": {},
   "outputs": [],
   "source": [
    "# Splitting the Mean data into training and test sets\n",
    "\n",
    "x_0_m, x_test_m,y_0_m,y_test_m = train_test_split(x_mean,y,test_size=0.1,random_state=11)\n",
    "\n",
    "# Running grid search on the number of components to include in PCA\n",
    "for num_comp in range(1,60,1): \n",
    "    mape_train,mape_test = fit_pcr_model_search(x_0_m,y_0_m,num_comp,2)\n",
    "    print(num_comp,mape_train,mape_test)"
   ]
  },
  {
   "cell_type": "code",
   "execution_count": null,
   "id": "13a07c1f-292a-4c03-a3d6-7f0270b804e6",
   "metadata": {},
   "outputs": [],
   "source": [
    "# Finding the final Test MAPE with best known number of components from grid search \n",
    "\n",
    "# Results for Mean Data\n",
    "\n",
    "mape_train,mape_test = fit_pcr_model_test(x_0_m,y_0_m,x_test_m,y_test_m,16,2)\n",
    "print(16,mape_train,mape_test)"
   ]
  },
  {
   "cell_type": "code",
   "execution_count": null,
   "id": "fc1fda27-1ef3-4f7f-873e-f5f0e974bad5",
   "metadata": {},
   "outputs": [],
   "source": []
  }
 ],
 "metadata": {
  "kernelspec": {
   "display_name": "Python 3 (ipykernel)",
   "language": "python",
   "name": "python3"
  },
  "language_info": {
   "codemirror_mode": {
    "name": "ipython",
    "version": 3
   },
   "file_extension": ".py",
   "mimetype": "text/x-python",
   "name": "python",
   "nbconvert_exporter": "python",
   "pygments_lexer": "ipython3",
   "version": "3.12.2"
  }
 },
 "nbformat": 4,
 "nbformat_minor": 5
}
