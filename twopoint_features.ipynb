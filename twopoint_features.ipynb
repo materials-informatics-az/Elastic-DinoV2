{
 "cells": [
  {
   "cell_type": "code",
   "execution_count": null,
   "id": "8019a6a1-cf41-46c4-8080-50391848c75e",
   "metadata": {},
   "outputs": [],
   "source": [
    "# Imports \n",
    "\n",
    "import numpy as np\n",
    "import scipy.io as sio\n",
    "\n",
    "from sklearn.model_selection import train_test_split\n",
    "from sklearn.decomposition import PCA\n",
    "from sklearn.linear_model import LinearRegression\n",
    "from sklearn.preprocessing import PolynomialFeatures\n",
    "import matplotlib.pyplot as plt\n",
    "\n",
    "from pymks import (\n",
    "    PrimitiveTransformer,\n",
    "    TwoPointCorrelation)\n"
   ]
  },
  {
   "cell_type": "code",
   "execution_count": null,
   "id": "02cb0353-a70c-44d6-bb76-fda9ee0ad6e8",
   "metadata": {},
   "outputs": [],
   "source": [
    "# Loading the data\n",
    "\n",
    "data = sio.loadmat('dataset')\n",
    "x = data['data']\n",
    "y = data['label']\n",
    "y = y.reshape(-1,1)\n",
    "y = np.array(y)\n",
    "x = x.reshape(51,51,51,5900)\n",
    "x = np.transpose(x,(3,0,1,2))\n",
    "\n",
    "# Resizing to be divisible by 14 for DinoV2 Model. \n",
    "xx_bin = x[:,0,:42,:42]\n",
    "xy_bin = x[:,:42,0,:42]\n",
    "xz_bin = x[:,:42,:42,0]"
   ]
  },
  {
   "cell_type": "code",
   "execution_count": null,
   "id": "e3aa8fef-3bda-47d5-8e4b-bf9720e2da67",
   "metadata": {},
   "outputs": [],
   "source": [
    "# Calculating Two Point Correlation Functions\n",
    "\n",
    "xx_ = PrimitiveTransformer(n_state=2, min_=0.0, max_=1.0).transform(xx_bin)\n",
    "xy_ = PrimitiveTransformer(n_state=2, min_=0.0, max_=1.0).transform(xy_bin)\n",
    "xz_ = PrimitiveTransformer(n_state=2, min_=0.0, max_=1.0).transform(xz_bin)\n",
    "\n",
    "corr_x = TwoPointCorrelation(\n",
    "    periodic_boundary=False,\n",
    "    cutoff=21,\n",
    "    correlations=[(1, 1)]\n",
    ").transform(xx_)\n",
    "\n",
    "corr_y = TwoPointCorrelation(\n",
    "    periodic_boundary=False,\n",
    "    cutoff=21,\n",
    "    correlations=[(1, 1)]\n",
    ").transform(xy_)\n",
    "\n",
    "corr_z = TwoPointCorrelation(\n",
    "    periodic_boundary=False,\n",
    "    cutoff=21,\n",
    "    correlations=[(1, 1)]\n",
    ").transform(xz_)"
   ]
  },
  {
   "cell_type": "code",
   "execution_count": null,
   "id": "a8b8b85a-a443-4c0b-942d-60f02ed57044",
   "metadata": {},
   "outputs": [],
   "source": [
    "xx = corr_x.reshape(5900,-1)\n",
    "xy = corr_y.reshape(5900,-1)\n",
    "xz = corr_z.reshape(5900,-1)\n"
   ]
  },
  {
   "cell_type": "code",
   "execution_count": null,
   "id": "b58f1c42-0bb8-4ce8-a716-b83e414066ac",
   "metadata": {},
   "outputs": [],
   "source": [
    "np.save('xx_tps.npy',xx)\n",
    "np.save('xy_tps.npy',xy)\n",
    "np.save('xz_tps.npy',xz)\n"
   ]
  }
 ],
 "metadata": {
  "kernelspec": {
   "display_name": "Python 3 (ipykernel)",
   "language": "python",
   "name": "python3"
  },
  "language_info": {
   "codemirror_mode": {
    "name": "ipython",
    "version": 3
   },
   "file_extension": ".py",
   "mimetype": "text/x-python",
   "name": "python",
   "nbconvert_exporter": "python",
   "pygments_lexer": "ipython3",
   "version": "3.12.2"
  }
 },
 "nbformat": 4,
 "nbformat_minor": 5
}
