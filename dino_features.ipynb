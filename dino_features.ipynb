{
 "cells": [
  {
   "cell_type": "code",
   "execution_count": null,
   "id": "8019a6a1-cf41-46c4-8080-50391848c75e",
   "metadata": {},
   "outputs": [],
   "source": [
    "#Imports \n",
    "\n",
    "import numpy as np\n",
    "import scipy.io as sio\n",
    "\n",
    "from sklearn.model_selection import train_test_split\n",
    "from sklearn.decomposition import PCA\n",
    "from sklearn.linear_model import LinearRegression\n",
    "from sklearn.preprocessing import PolynomialFeatures\n",
    "import matplotlib.pyplot as plt\n",
    "\n",
    "import torch\n",
    "from torchvision import transforms\n",
    "from PIL import Image"
   ]
  },
  {
   "cell_type": "code",
   "execution_count": null,
   "id": "02cb0353-a70c-44d6-bb76-fda9ee0ad6e8",
   "metadata": {},
   "outputs": [],
   "source": [
    "#Loading the data\n",
    "\n",
    "data = sio.loadmat('dataset')\n",
    "x = data['data']\n",
    "y = data['label']\n",
    "y = y.reshape(-1,1)\n",
    "y = np.array(y)\n",
    "x = x.reshape(51,51,51,5900)\n",
    "x = np.transpose(x,(3,0,1,2))\n",
    "\n",
    "# Resizing to be divisible by 14 for DinoV2 Model. \n",
    "xx_bin = x[:,0,:42,:42]\n",
    "xy_bin = x[:,:42,0,:42]\n",
    "xz_bin = x[:,:42,:42,0]"
   ]
  },
  {
   "cell_type": "code",
   "execution_count": null,
   "id": "e3aa8fef-3bda-47d5-8e4b-bf9720e2da67",
   "metadata": {},
   "outputs": [],
   "source": [
    "transform = transforms.Compose([\n",
    "                transforms.ToTensor(), \n",
    "                 ])\n",
    "\n",
    "\n",
    "# Making features for specifed model type \n",
    "def make_features(x_bin):\n",
    "\n",
    "    x_t = torch.Tensor()\n",
    "    for img in x_bin:\n",
    "        img = Image.fromarray(np.uint8(img*255)).convert('RGB')\n",
    "        img_t = transform(img)\n",
    "        img_t = img_t[None,:,:,:]\n",
    "        x_t = torch.cat((x_t,img_t),0)\n",
    "\n",
    "    return dinov2_vitb14(x_t).detach().numpy()\n",
    "\n",
    "\n",
    "# Looping through and creating and saving features for all dino models \n",
    "for ver in ['s','b','l','g']:\n",
    "\n",
    "    dinov2_vitb14 = torch.hub.load('facebookresearch/dinov2', 'dinov2_vit{}14'.format(ver))\n",
    "    \n",
    "    \n",
    "    xx = make_features(xx_bin)\n",
    "    xy = make_features(xy_bin)\n",
    "    xz = make_features(xz_bin)\n",
    "    \n",
    "    np.save('xx_dino_{}.npy'.format(ver),xx)\n",
    "    np.save('xy_dino_{}.npy'.format(ver),xy)\n",
    "    np.save('xz_dino_{}.npy'.format(ver),xz)\n",
    "    print('Done with xz_dino_{}.npy'.format(ver))"
   ]
  }
 ],
 "metadata": {
  "kernelspec": {
   "display_name": "Python 3 (ipykernel)",
   "language": "python",
   "name": "python3"
  },
  "language_info": {
   "codemirror_mode": {
    "name": "ipython",
    "version": 3
   },
   "file_extension": ".py",
   "mimetype": "text/x-python",
   "name": "python",
   "nbconvert_exporter": "python",
   "pygments_lexer": "ipython3",
   "version": "3.12.2"
  }
 },
 "nbformat": 4,
 "nbformat_minor": 5
}
